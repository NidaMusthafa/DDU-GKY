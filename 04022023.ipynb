{
 "cells": [
  {
   "cell_type": "code",
   "execution_count": 8,
   "id": "915c4403",
   "metadata": {},
   "outputs": [],
   "source": [
    "import pandas as pd\n",
    "import numpy as np\n",
    "import warnings\n",
    "warnings.filterwarnings('ignore')\n"
   ]
  },
  {
   "cell_type": "code",
   "execution_count": 13,
   "id": "ffb0a1b9",
   "metadata": {},
   "outputs": [
    {
     "data": {
      "text/html": [
       "<div>\n",
       "<style scoped>\n",
       "    .dataframe tbody tr th:only-of-type {\n",
       "        vertical-align: middle;\n",
       "    }\n",
       "\n",
       "    .dataframe tbody tr th {\n",
       "        vertical-align: top;\n",
       "    }\n",
       "\n",
       "    .dataframe thead th {\n",
       "        text-align: right;\n",
       "    }\n",
       "</style>\n",
       "<table border=\"1\" class=\"dataframe\">\n",
       "  <thead>\n",
       "    <tr style=\"text-align: right;\">\n",
       "      <th></th>\n",
       "      <th>Unnamed: 0</th>\n",
       "      <th>show_id</th>\n",
       "      <th>type</th>\n",
       "      <th>director</th>\n",
       "      <th>cast</th>\n",
       "      <th>country</th>\n",
       "      <th>date_added</th>\n",
       "      <th>release_year</th>\n",
       "      <th>rating</th>\n",
       "      <th>duration</th>\n",
       "      <th>listed_in</th>\n",
       "      <th>description</th>\n",
       "    </tr>\n",
       "  </thead>\n",
       "  <tbody>\n",
       "    <tr>\n",
       "      <th>0</th>\n",
       "      <td>0</td>\n",
       "      <td>s1</td>\n",
       "      <td>Movie</td>\n",
       "      <td>Kirsten Johnson</td>\n",
       "      <td>NaN</td>\n",
       "      <td>United States</td>\n",
       "      <td>September 25, 2021</td>\n",
       "      <td>2020</td>\n",
       "      <td>PG-13</td>\n",
       "      <td>90 min</td>\n",
       "      <td>Documentaries</td>\n",
       "      <td>As her father nears the end of his life, filmm...</td>\n",
       "    </tr>\n",
       "    <tr>\n",
       "      <th>1</th>\n",
       "      <td>1</td>\n",
       "      <td>s2</td>\n",
       "      <td>TV Show</td>\n",
       "      <td>NaN</td>\n",
       "      <td>Ama Qamata, Khosi Ngema, Gail Mabalane, Thaban...</td>\n",
       "      <td>South Africa</td>\n",
       "      <td>September 24, 2021</td>\n",
       "      <td>2021</td>\n",
       "      <td>TV-MA</td>\n",
       "      <td>2 Seasons</td>\n",
       "      <td>International TV Shows, TV Dramas, TV Mysteries</td>\n",
       "      <td>After crossing paths at a party, a Cape Town t...</td>\n",
       "    </tr>\n",
       "    <tr>\n",
       "      <th>2</th>\n",
       "      <td>4</td>\n",
       "      <td>s5</td>\n",
       "      <td>TV Show</td>\n",
       "      <td>NaN</td>\n",
       "      <td>Mayur More, Jitendra Kumar, Ranjan Raj, Alam K...</td>\n",
       "      <td>India</td>\n",
       "      <td>September 24, 2021</td>\n",
       "      <td>2021</td>\n",
       "      <td>TV-MA</td>\n",
       "      <td>2 Seasons</td>\n",
       "      <td>International TV Shows, Romantic TV Shows, TV ...</td>\n",
       "      <td>In a city of coaching centers known to train I...</td>\n",
       "    </tr>\n",
       "    <tr>\n",
       "      <th>3</th>\n",
       "      <td>7</td>\n",
       "      <td>s8</td>\n",
       "      <td>Movie</td>\n",
       "      <td>Haile Gerima</td>\n",
       "      <td>Kofi Ghanaba, Oyafunmike Ogunlano, Alexandra D...</td>\n",
       "      <td>United States, Ghana, Burkina Faso, United Kin...</td>\n",
       "      <td>September 24, 2021</td>\n",
       "      <td>1993</td>\n",
       "      <td>TV-MA</td>\n",
       "      <td>125 min</td>\n",
       "      <td>Dramas, Independent Movies, International Movies</td>\n",
       "      <td>On a photo shoot in Ghana, an American model s...</td>\n",
       "    </tr>\n",
       "    <tr>\n",
       "      <th>4</th>\n",
       "      <td>8</td>\n",
       "      <td>s9</td>\n",
       "      <td>TV Show</td>\n",
       "      <td>Andy Devonshire</td>\n",
       "      <td>Mel Giedroyc, Sue Perkins, Mary Berry, Paul Ho...</td>\n",
       "      <td>United Kingdom</td>\n",
       "      <td>September 24, 2021</td>\n",
       "      <td>2021</td>\n",
       "      <td>TV-14</td>\n",
       "      <td>9 Seasons</td>\n",
       "      <td>British TV Shows, Reality TV</td>\n",
       "      <td>A talented batch of amateur bakers face off in...</td>\n",
       "    </tr>\n",
       "    <tr>\n",
       "      <th>...</th>\n",
       "      <td>...</td>\n",
       "      <td>...</td>\n",
       "      <td>...</td>\n",
       "      <td>...</td>\n",
       "      <td>...</td>\n",
       "      <td>...</td>\n",
       "      <td>...</td>\n",
       "      <td>...</td>\n",
       "      <td>...</td>\n",
       "      <td>...</td>\n",
       "      <td>...</td>\n",
       "      <td>...</td>\n",
       "    </tr>\n",
       "    <tr>\n",
       "      <th>7971</th>\n",
       "      <td>8801</td>\n",
       "      <td>s8802</td>\n",
       "      <td>Movie</td>\n",
       "      <td>Majid Al Ansari</td>\n",
       "      <td>Ali Suliman, Saleh Bakri, Yasa, Ali Al-Jabri, ...</td>\n",
       "      <td>United Arab Emirates, Jordan</td>\n",
       "      <td>March 9, 2016</td>\n",
       "      <td>2015</td>\n",
       "      <td>TV-MA</td>\n",
       "      <td>96 min</td>\n",
       "      <td>Dramas, International Movies, Thrillers</td>\n",
       "      <td>Recovering alcoholic Talal wakes up inside a s...</td>\n",
       "    </tr>\n",
       "    <tr>\n",
       "      <th>7972</th>\n",
       "      <td>8802</td>\n",
       "      <td>s8803</td>\n",
       "      <td>Movie</td>\n",
       "      <td>David Fincher</td>\n",
       "      <td>Mark Ruffalo, Jake Gyllenhaal, Robert Downey J...</td>\n",
       "      <td>United States</td>\n",
       "      <td>November 20, 2019</td>\n",
       "      <td>2007</td>\n",
       "      <td>R</td>\n",
       "      <td>158 min</td>\n",
       "      <td>Cult Movies, Dramas, Thrillers</td>\n",
       "      <td>A political cartoonist, a crime reporter and a...</td>\n",
       "    </tr>\n",
       "    <tr>\n",
       "      <th>7973</th>\n",
       "      <td>8804</td>\n",
       "      <td>s8805</td>\n",
       "      <td>Movie</td>\n",
       "      <td>Ruben Fleischer</td>\n",
       "      <td>Jesse Eisenberg, Woody Harrelson, Emma Stone, ...</td>\n",
       "      <td>United States</td>\n",
       "      <td>November 1, 2019</td>\n",
       "      <td>2009</td>\n",
       "      <td>R</td>\n",
       "      <td>88 min</td>\n",
       "      <td>Comedies, Horror Movies</td>\n",
       "      <td>Looking to survive in a world taken over by zo...</td>\n",
       "    </tr>\n",
       "    <tr>\n",
       "      <th>7974</th>\n",
       "      <td>8805</td>\n",
       "      <td>s8806</td>\n",
       "      <td>Movie</td>\n",
       "      <td>Peter Hewitt</td>\n",
       "      <td>Tim Allen, Courteney Cox, Chevy Chase, Kate Ma...</td>\n",
       "      <td>United States</td>\n",
       "      <td>January 11, 2020</td>\n",
       "      <td>2006</td>\n",
       "      <td>PG</td>\n",
       "      <td>88 min</td>\n",
       "      <td>Children &amp; Family Movies, Comedies</td>\n",
       "      <td>Dragged from civilian life, a former superhero...</td>\n",
       "    </tr>\n",
       "    <tr>\n",
       "      <th>7975</th>\n",
       "      <td>8806</td>\n",
       "      <td>s8807</td>\n",
       "      <td>Movie</td>\n",
       "      <td>Mozez Singh</td>\n",
       "      <td>Vicky Kaushal, Sarah-Jane Dias, Raaghav Chanan...</td>\n",
       "      <td>India</td>\n",
       "      <td>March 2, 2019</td>\n",
       "      <td>2015</td>\n",
       "      <td>TV-14</td>\n",
       "      <td>111 min</td>\n",
       "      <td>Dramas, International Movies, Music &amp; Musicals</td>\n",
       "      <td>A scrappy but poor boy worms his way into a ty...</td>\n",
       "    </tr>\n",
       "  </tbody>\n",
       "</table>\n",
       "<p>7976 rows × 12 columns</p>\n",
       "</div>"
      ],
      "text/plain": [
       "      Unnamed: 0 show_id     type         director  \\\n",
       "0              0      s1    Movie  Kirsten Johnson   \n",
       "1              1      s2  TV Show              NaN   \n",
       "2              4      s5  TV Show              NaN   \n",
       "3              7      s8    Movie     Haile Gerima   \n",
       "4              8      s9  TV Show  Andy Devonshire   \n",
       "...          ...     ...      ...              ...   \n",
       "7971        8801   s8802    Movie  Majid Al Ansari   \n",
       "7972        8802   s8803    Movie    David Fincher   \n",
       "7973        8804   s8805    Movie  Ruben Fleischer   \n",
       "7974        8805   s8806    Movie     Peter Hewitt   \n",
       "7975        8806   s8807    Movie      Mozez Singh   \n",
       "\n",
       "                                                   cast  \\\n",
       "0                                                   NaN   \n",
       "1     Ama Qamata, Khosi Ngema, Gail Mabalane, Thaban...   \n",
       "2     Mayur More, Jitendra Kumar, Ranjan Raj, Alam K...   \n",
       "3     Kofi Ghanaba, Oyafunmike Ogunlano, Alexandra D...   \n",
       "4     Mel Giedroyc, Sue Perkins, Mary Berry, Paul Ho...   \n",
       "...                                                 ...   \n",
       "7971  Ali Suliman, Saleh Bakri, Yasa, Ali Al-Jabri, ...   \n",
       "7972  Mark Ruffalo, Jake Gyllenhaal, Robert Downey J...   \n",
       "7973  Jesse Eisenberg, Woody Harrelson, Emma Stone, ...   \n",
       "7974  Tim Allen, Courteney Cox, Chevy Chase, Kate Ma...   \n",
       "7975  Vicky Kaushal, Sarah-Jane Dias, Raaghav Chanan...   \n",
       "\n",
       "                                                country          date_added  \\\n",
       "0                                         United States  September 25, 2021   \n",
       "1                                          South Africa  September 24, 2021   \n",
       "2                                                 India  September 24, 2021   \n",
       "3     United States, Ghana, Burkina Faso, United Kin...  September 24, 2021   \n",
       "4                                        United Kingdom  September 24, 2021   \n",
       "...                                                 ...                 ...   \n",
       "7971                       United Arab Emirates, Jordan       March 9, 2016   \n",
       "7972                                      United States   November 20, 2019   \n",
       "7973                                      United States    November 1, 2019   \n",
       "7974                                      United States    January 11, 2020   \n",
       "7975                                              India       March 2, 2019   \n",
       "\n",
       "      release_year rating   duration  \\\n",
       "0             2020  PG-13     90 min   \n",
       "1             2021  TV-MA  2 Seasons   \n",
       "2             2021  TV-MA  2 Seasons   \n",
       "3             1993  TV-MA    125 min   \n",
       "4             2021  TV-14  9 Seasons   \n",
       "...            ...    ...        ...   \n",
       "7971          2015  TV-MA     96 min   \n",
       "7972          2007      R    158 min   \n",
       "7973          2009      R     88 min   \n",
       "7974          2006     PG     88 min   \n",
       "7975          2015  TV-14    111 min   \n",
       "\n",
       "                                              listed_in  \\\n",
       "0                                         Documentaries   \n",
       "1       International TV Shows, TV Dramas, TV Mysteries   \n",
       "2     International TV Shows, Romantic TV Shows, TV ...   \n",
       "3      Dramas, Independent Movies, International Movies   \n",
       "4                          British TV Shows, Reality TV   \n",
       "...                                                 ...   \n",
       "7971            Dramas, International Movies, Thrillers   \n",
       "7972                     Cult Movies, Dramas, Thrillers   \n",
       "7973                            Comedies, Horror Movies   \n",
       "7974                 Children & Family Movies, Comedies   \n",
       "7975     Dramas, International Movies, Music & Musicals   \n",
       "\n",
       "                                            description  \n",
       "0     As her father nears the end of his life, filmm...  \n",
       "1     After crossing paths at a party, a Cape Town t...  \n",
       "2     In a city of coaching centers known to train I...  \n",
       "3     On a photo shoot in Ghana, an American model s...  \n",
       "4     A talented batch of amateur bakers face off in...  \n",
       "...                                                 ...  \n",
       "7971  Recovering alcoholic Talal wakes up inside a s...  \n",
       "7972  A political cartoonist, a crime reporter and a...  \n",
       "7973  Looking to survive in a world taken over by zo...  \n",
       "7974  Dragged from civilian life, a former superhero...  \n",
       "7975  A scrappy but poor boy worms his way into a ty...  \n",
       "\n",
       "[7976 rows x 12 columns]"
      ]
     },
     "execution_count": 13,
     "metadata": {},
     "output_type": "execute_result"
    }
   ],
   "source": [
    "df=pd.read_csv('netflix_titles_2021 (1).csv')\n",
    "df"
   ]
  },
  {
   "cell_type": "code",
   "execution_count": 16,
   "id": "1e4dde71",
   "metadata": {},
   "outputs": [
    {
     "data": {
      "text/plain": [
       "0        1\n",
       "2        4\n",
       "3        8\n",
       "5       32\n",
       "7      128\n",
       "8      256\n",
       "10    1024\n",
       "dtype: int64"
      ]
     },
     "execution_count": 16,
     "metadata": {},
     "output_type": "execute_result"
    }
   ],
   "source": [
    "twopower_sr=pd.Series([1,2,4,8,16,32,64,128,256,512,1024])\n",
    "BM=[True,False,True,True,False,True,False,True,True,False,True]  \n",
    "twopower_sr[BM]"
   ]
  },
  {
   "cell_type": "code",
   "execution_count": 17,
   "id": "c18c9128",
   "metadata": {},
   "outputs": [
    {
     "data": {
      "text/plain": [
       "9      512\n",
       "10    1024\n",
       "dtype: int64"
      ]
     },
     "execution_count": 17,
     "metadata": {},
     "output_type": "execute_result"
    }
   ],
   "source": [
    "BM=twopower_sr>500\n",
    "twopower_sr[BM]"
   ]
  },
  {
   "cell_type": "code",
   "execution_count": 18,
   "id": "32fcc496",
   "metadata": {},
   "outputs": [
    {
     "data": {
      "text/plain": [
       "0      1\n",
       "1      2\n",
       "2      4\n",
       "3      8\n",
       "4     16\n",
       "5     32\n",
       "6     64\n",
       "7    128\n",
       "dtype: int64"
      ]
     },
     "execution_count": 18,
     "metadata": {},
     "output_type": "execute_result"
    }
   ],
   "source": [
    "BM=twopower_sr<250\n",
    "twopower_sr[BM]"
   ]
  },
  {
   "cell_type": "code",
   "execution_count": 19,
   "id": "32e14045",
   "metadata": {},
   "outputs": [
    {
     "data": {
      "text/plain": [
       "0       2020\n",
       "1       2021\n",
       "2       2021\n",
       "3       1993\n",
       "4       2021\n",
       "        ... \n",
       "7971    2015\n",
       "7972    2007\n",
       "7973    2009\n",
       "7974    2006\n",
       "7975    2015\n",
       "Name: release_year, Length: 7976, dtype: int64"
      ]
     },
     "execution_count": 19,
     "metadata": {},
     "output_type": "execute_result"
    }
   ],
   "source": [
    "df['release_year']"
   ]
  },
  {
   "cell_type": "code",
   "execution_count": 21,
   "id": "abd2bfc5",
   "metadata": {},
   "outputs": [
    {
     "data": {
      "text/plain": [
       "0    2020\n",
       "2    2021\n",
       "3    1993\n",
       "5    2015\n",
       "7    2009\n",
       "8    2006\n",
       "dtype: int64"
      ]
     },
     "execution_count": 21,
     "metadata": {},
     "output_type": "execute_result"
    }
   ],
   "source": [
    "release_year=pd.Series([2020,2018,2021,1993,2021,2015,2007,2009,2006,2015])\n",
    "BM=[True,False,True,True,False,True,False,True,True,False]\n",
    "release_year[BM]"
   ]
  },
  {
   "cell_type": "code",
   "execution_count": 22,
   "id": "db008354",
   "metadata": {},
   "outputs": [
    {
     "data": {
      "text/plain": [
       "0                                           United States\n",
       "1                                            South Africa\n",
       "2                                                   India\n",
       "3       United States, Ghana, Burkina Faso, United Kin...\n",
       "4                                          United Kingdom\n",
       "                              ...                        \n",
       "7971                         United Arab Emirates, Jordan\n",
       "7972                                        United States\n",
       "7973                                        United States\n",
       "7974                                        United States\n",
       "7975                                                India\n",
       "Name: country, Length: 7976, dtype: object"
      ]
     },
     "execution_count": 22,
     "metadata": {},
     "output_type": "execute_result"
    }
   ],
   "source": [
    "df['country']"
   ]
  },
  {
   "cell_type": "code",
   "execution_count": 25,
   "id": "4ca1a716",
   "metadata": {},
   "outputs": [
    {
     "data": {
      "text/plain": [
       "0    United Arab Emirates\n",
       "4            South Africa\n",
       "dtype: object"
      ]
     },
     "execution_count": 25,
     "metadata": {},
     "output_type": "execute_result"
    }
   ],
   "source": [
    "country=pd.Series([\"United Arab Emirates\",\"Jordan\",\"United Arab Emirates\",\"India\",\"South Africa\"])\n",
    "BM=[True,False,False,False,True]\n",
    "country[BM]"
   ]
  },
  {
   "cell_type": "code",
   "execution_count": 34,
   "id": "f1cbbe81",
   "metadata": {},
   "outputs": [
    {
     "data": {
      "text/html": [
       "<div>\n",
       "<style scoped>\n",
       "    .dataframe tbody tr th:only-of-type {\n",
       "        vertical-align: middle;\n",
       "    }\n",
       "\n",
       "    .dataframe tbody tr th {\n",
       "        vertical-align: top;\n",
       "    }\n",
       "\n",
       "    .dataframe thead th {\n",
       "        text-align: right;\n",
       "    }\n",
       "</style>\n",
       "<table border=\"1\" class=\"dataframe\">\n",
       "  <thead>\n",
       "    <tr style=\"text-align: right;\">\n",
       "      <th></th>\n",
       "      <th>Unnamed: 0</th>\n",
       "      <th>show_id</th>\n",
       "      <th>type</th>\n",
       "      <th>director</th>\n",
       "      <th>cast</th>\n",
       "      <th>country</th>\n",
       "      <th>date_added</th>\n",
       "      <th>release_year</th>\n",
       "      <th>rating</th>\n",
       "      <th>duration</th>\n",
       "      <th>listed_in</th>\n",
       "      <th>description</th>\n",
       "    </tr>\n",
       "  </thead>\n",
       "  <tbody>\n",
       "    <tr>\n",
       "      <th>437</th>\n",
       "      <td>657</td>\n",
       "      <td>s658</td>\n",
       "      <td>TV Show</td>\n",
       "      <td>NaN</td>\n",
       "      <td>Anderson Cooper</td>\n",
       "      <td>United States</td>\n",
       "      <td>June 21, 2021</td>\n",
       "      <td>2001</td>\n",
       "      <td>TV-14</td>\n",
       "      <td>2 Seasons</td>\n",
       "      <td>Reality TV, TV Action &amp; Adventure, TV Mysteries</td>\n",
       "      <td>In this competition show, contestants try to e...</td>\n",
       "    </tr>\n",
       "    <tr>\n",
       "      <th>5005</th>\n",
       "      <td>5672</td>\n",
       "      <td>s5673</td>\n",
       "      <td>TV Show</td>\n",
       "      <td>NaN</td>\n",
       "      <td>Kappei Yamaguchi, Satsuki Yukino, Kumiko Watan...</td>\n",
       "      <td>Japan</td>\n",
       "      <td>December 15, 2016</td>\n",
       "      <td>2001</td>\n",
       "      <td>TV-14</td>\n",
       "      <td>2 Seasons</td>\n",
       "      <td>Anime Series, International TV Shows</td>\n",
       "      <td>Yanked down a well, schoolgirl Kagome Higurash...</td>\n",
       "    </tr>\n",
       "    <tr>\n",
       "      <th>5135</th>\n",
       "      <td>5811</td>\n",
       "      <td>s5812</td>\n",
       "      <td>TV Show</td>\n",
       "      <td>NaN</td>\n",
       "      <td>NaN</td>\n",
       "      <td>United States</td>\n",
       "      <td>August 15, 2016</td>\n",
       "      <td>2001</td>\n",
       "      <td>TV-14</td>\n",
       "      <td>1 Season</td>\n",
       "      <td>British TV Shows, Docuseries</td>\n",
       "      <td>After dire setbacks in 1940, Winston Churchill...</td>\n",
       "    </tr>\n",
       "    <tr>\n",
       "      <th>6991</th>\n",
       "      <td>7782</td>\n",
       "      <td>s7783</td>\n",
       "      <td>TV Show</td>\n",
       "      <td>NaN</td>\n",
       "      <td>Jason Faunt, Erin Cahill, Kevin Kleinberg, Deb...</td>\n",
       "      <td>United States</td>\n",
       "      <td>January 1, 2016</td>\n",
       "      <td>2001</td>\n",
       "      <td>TV-Y7</td>\n",
       "      <td>1 Season</td>\n",
       "      <td>Kids' TV</td>\n",
       "      <td>The team launches a new campaign against evil ...</td>\n",
       "    </tr>\n",
       "    <tr>\n",
       "      <th>7407</th>\n",
       "      <td>8214</td>\n",
       "      <td>s8215</td>\n",
       "      <td>TV Show</td>\n",
       "      <td>Alastair Fothergill</td>\n",
       "      <td>David Attenborough</td>\n",
       "      <td>United Kingdom</td>\n",
       "      <td>October 10, 2015</td>\n",
       "      <td>2001</td>\n",
       "      <td>TV-G</td>\n",
       "      <td>1 Season</td>\n",
       "      <td>British TV Shows, Docuseries, International TV...</td>\n",
       "      <td>David Attenborough narrates this definitive ex...</td>\n",
       "    </tr>\n",
       "  </tbody>\n",
       "</table>\n",
       "</div>"
      ],
      "text/plain": [
       "      Unnamed: 0 show_id     type             director  \\\n",
       "437          657    s658  TV Show                  NaN   \n",
       "5005        5672   s5673  TV Show                  NaN   \n",
       "5135        5811   s5812  TV Show                  NaN   \n",
       "6991        7782   s7783  TV Show                  NaN   \n",
       "7407        8214   s8215  TV Show  Alastair Fothergill   \n",
       "\n",
       "                                                   cast         country  \\\n",
       "437                                     Anderson Cooper   United States   \n",
       "5005  Kappei Yamaguchi, Satsuki Yukino, Kumiko Watan...           Japan   \n",
       "5135                                                NaN   United States   \n",
       "6991  Jason Faunt, Erin Cahill, Kevin Kleinberg, Deb...   United States   \n",
       "7407                                 David Attenborough  United Kingdom   \n",
       "\n",
       "             date_added  release_year rating   duration  \\\n",
       "437       June 21, 2021          2001  TV-14  2 Seasons   \n",
       "5005  December 15, 2016          2001  TV-14  2 Seasons   \n",
       "5135    August 15, 2016          2001  TV-14   1 Season   \n",
       "6991    January 1, 2016          2001  TV-Y7   1 Season   \n",
       "7407   October 10, 2015          2001   TV-G   1 Season   \n",
       "\n",
       "                                              listed_in  \\\n",
       "437     Reality TV, TV Action & Adventure, TV Mysteries   \n",
       "5005               Anime Series, International TV Shows   \n",
       "5135                       British TV Shows, Docuseries   \n",
       "6991                                           Kids' TV   \n",
       "7407  British TV Shows, Docuseries, International TV...   \n",
       "\n",
       "                                            description  \n",
       "437   In this competition show, contestants try to e...  \n",
       "5005  Yanked down a well, schoolgirl Kagome Higurash...  \n",
       "5135  After dire setbacks in 1940, Winston Churchill...  \n",
       "6991  The team launches a new campaign against evil ...  \n",
       "7407  David Attenborough narrates this definitive ex...  "
      ]
     },
     "execution_count": 34,
     "metadata": {},
     "output_type": "execute_result"
    }
   ],
   "source": [
    "df.query('release_year == 2001 & type == \"TV Show\"')"
   ]
  },
  {
   "cell_type": "code",
   "execution_count": 35,
   "id": "6a44e5b1",
   "metadata": {},
   "outputs": [
    {
     "data": {
      "text/plain": [
       "7976"
      ]
     },
     "execution_count": 35,
     "metadata": {},
     "output_type": "execute_result"
    }
   ],
   "source": [
    "df['type'].count()"
   ]
  },
  {
   "cell_type": "markdown",
   "id": "bbd3cb1d",
   "metadata": {},
   "source": [
    "## no of movies released in 2020"
   ]
  },
  {
   "cell_type": "code",
   "execution_count": 36,
   "id": "6102a8d7",
   "metadata": {},
   "outputs": [],
   "source": [
    "BM=df.release_year==2020"
   ]
  },
  {
   "cell_type": "code",
   "execution_count": 48,
   "id": "c59caf49",
   "metadata": {},
   "outputs": [],
   "source": [
    "BM=df.type==\"TV show\""
   ]
  },
  {
   "cell_type": "code",
   "execution_count": 50,
   "id": "fdfe3227",
   "metadata": {},
   "outputs": [
    {
     "data": {
      "text/plain": [
       "Series([], Name: release_year, dtype: int64)"
      ]
     },
     "execution_count": 50,
     "metadata": {},
     "output_type": "execute_result"
    }
   ],
   "source": [
    "df[BM].release_year.value_counts()"
   ]
  },
  {
   "cell_type": "code",
   "execution_count": 58,
   "id": "3692be54",
   "metadata": {},
   "outputs": [
    {
     "data": {
      "text/plain": [
       "461"
      ]
     },
     "execution_count": 58,
     "metadata": {},
     "output_type": "execute_result"
    }
   ],
   "source": [
    "len(df.query('release_year==2020 & type==\"Movie\"'))"
   ]
  },
  {
   "cell_type": "code",
   "execution_count": 49,
   "id": "cf777d30",
   "metadata": {},
   "outputs": [
    {
     "data": {
      "text/plain": [
       "0       2020\n",
       "1       2021\n",
       "2       2021\n",
       "3       1993\n",
       "4       2021\n",
       "        ... \n",
       "7971    2015\n",
       "7972    2007\n",
       "7973    2009\n",
       "7974    2006\n",
       "7975    2015\n",
       "Name: release_year, Length: 7976, dtype: int64"
      ]
     },
     "execution_count": 49,
     "metadata": {},
     "output_type": "execute_result"
    }
   ],
   "source": [
    "#display rating of tv show in each year\n",
    "\n",
    "df['release_year']"
   ]
  },
  {
   "cell_type": "code",
   "execution_count": null,
   "id": "db2f6dff",
   "metadata": {},
   "outputs": [],
   "source": []
  }
 ],
 "metadata": {
  "kernelspec": {
   "display_name": "Python 3 (ipykernel)",
   "language": "python",
   "name": "python3"
  },
  "language_info": {
   "codemirror_mode": {
    "name": "ipython",
    "version": 3
   },
   "file_extension": ".py",
   "mimetype": "text/x-python",
   "name": "python",
   "nbconvert_exporter": "python",
   "pygments_lexer": "ipython3",
   "version": "3.9.13"
  }
 },
 "nbformat": 4,
 "nbformat_minor": 5
}
